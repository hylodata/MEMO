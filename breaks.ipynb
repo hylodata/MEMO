{
 "cells": [
  {
   "cell_type": "code",
   "execution_count": 1,
   "id": "86cb2be1-98e6-4aca-9dca-df2d9e984082",
   "metadata": {},
   "outputs": [],
   "source": [
    "import numpy as np\n",
    "import pandas as pd"
   ]
  },
  {
   "cell_type": "code",
   "execution_count": 2,
   "id": "18765cf0-8778-4d39-a8b6-ce1f420e5963",
   "metadata": {},
   "outputs": [],
   "source": [
    "# Load data\n",
    "df = pd.read_csv(\"CurrentVariablesVer2.csv\").astype(float)"
   ]
  },
  {
   "cell_type": "code",
   "execution_count": 3,
   "id": "72427190-38da-4c83-b76e-7c0af9267bd9",
   "metadata": {},
   "outputs": [],
   "source": [
    "# NM\n",
    "df = pd.concat([df['NETRa1990'], df['NETRa1995'], df['NETRa2000'], df['NETRa2005'], df['NETRa2010']], ignore_index=True).to_frame('New')\n",
    "\n",
    "# Precip \n",
    "## df = pd.concat([df['PRECRa1990'], df['PRECRa1995'], df['PRECRa2000'], df['PRECRa2005'], df['PRECRa2010']], ignore_index=True).to_frame('New')\n",
    "\n",
    "# Wet Days \n",
    "## df = pd.concat([df['MLWSRa1990'], df['MLWSRa1995'], df['MLWSRa2000'], df['MLWSRa2005'], df['MLWSRa2010']], ignore_index=True).to_frame('New')\n",
    "\n",
    "# Dry Days \n",
    "## df = pd.concat([df['MLDSRa1990'], df['MLDSRa1995'], df['MLDSRa2000'], df['MLDSRa2005'], df['MLDSRa2010']], ignore_index=True).to_frame('New')\n",
    "\n",
    "# TMAX\n",
    "## df = pd.concat([df['TMAXRa1990'], df['TMAXRa1995'], df['TMAXRa2000'], df['TMAXRa2005'], df['TMAXRa2010']], ignore_index=True).to_frame('New')\n",
    "\n",
    "# TMIN\n",
    "## df = pd.concat([df['TMINRa1990'], df['TMINRa1995'], df['TMINRa2000'], df['TMINRa2005'], df['TMINRa2010']], ignore_index=True).to_frame('New')\n",
    "\n",
    "# EDUHR\n",
    "#df = pd.concat([df['ELECRa2000'], df['ELECRa2005'], df['ELECRa2010']], ignore_index=True).to_frame('New')\n",
    "# df.columns = [\"New\"]"
   ]
  },
  {
   "cell_type": "code",
   "execution_count": 4,
   "id": "512cc28f-f0ab-434d-9ee1-8e637a2446c8",
   "metadata": {},
   "outputs": [
    {
     "data": {
      "text/html": [
       "<div>\n",
       "<style scoped>\n",
       "    .dataframe tbody tr th:only-of-type {\n",
       "        vertical-align: middle;\n",
       "    }\n",
       "\n",
       "    .dataframe tbody tr th {\n",
       "        vertical-align: top;\n",
       "    }\n",
       "\n",
       "    .dataframe thead th {\n",
       "        text-align: right;\n",
       "    }\n",
       "</style>\n",
       "<table border=\"1\" class=\"dataframe\">\n",
       "  <thead>\n",
       "    <tr style=\"text-align: right;\">\n",
       "      <th></th>\n",
       "      <th>New</th>\n",
       "    </tr>\n",
       "  </thead>\n",
       "  <tbody>\n",
       "    <tr>\n",
       "      <th>0</th>\n",
       "      <td>-0.462583</td>\n",
       "    </tr>\n",
       "    <tr>\n",
       "      <th>1</th>\n",
       "      <td>1.843003</td>\n",
       "    </tr>\n",
       "    <tr>\n",
       "      <th>2</th>\n",
       "      <td>-2.301024</td>\n",
       "    </tr>\n",
       "    <tr>\n",
       "      <th>3</th>\n",
       "      <td>0.000000</td>\n",
       "    </tr>\n",
       "    <tr>\n",
       "      <th>4</th>\n",
       "      <td>8.017143</td>\n",
       "    </tr>\n",
       "  </tbody>\n",
       "</table>\n",
       "</div>"
      ],
      "text/plain": [
       "        New\n",
       "0 -0.462583\n",
       "1  1.843003\n",
       "2 -2.301024\n",
       "3  0.000000\n",
       "4  8.017143"
      ]
     },
     "execution_count": 4,
     "metadata": {},
     "output_type": "execute_result"
    }
   ],
   "source": [
    "df.head()"
   ]
  },
  {
   "cell_type": "code",
   "execution_count": 8,
   "id": "988ed677-e45b-4e67-8a83-40db5f711d9b",
   "metadata": {},
   "outputs": [
    {
     "name": "stdout",
     "output_type": "stream",
     "text": [
      "[-282.0, -0.67, -0.24, -0.05, 0.0, 0.3, 171.33]\n"
     ]
    }
   ],
   "source": [
    "# Convert to a pandas Series\n",
    "#df = pd.Series(df)\n",
    "\n",
    "# Compute quantile-based class breaks (7 classes), including min and max dynamically\n",
    "quantiles_7 = df[\"New\"].quantile(q=np.linspace(0, 1, 7)).round(2).tolist()\n",
    "\n",
    "# Print the results\n",
    "print(quantiles_7)"
   ]
  },
  {
   "cell_type": "markdown",
   "id": "22054756-441e-41d8-b987-e15df700cae4",
   "metadata": {},
   "source": [
    "- prompt: apply these 7 classes to a Reds (Red-Dark Red) sequential color scheme and create pairs for mapbox gl using the step function: [-0.05, -0.02, -0.01, -0.0, 0.01, 0.02, 0.06]"
   ]
  },
  {
   "cell_type": "code",
   "execution_count": 75,
   "id": "70b9f3fc-9791-41f9-b96b-2817725c2dae",
   "metadata": {},
   "outputs": [
    {
     "name": "stdout",
     "output_type": "stream",
     "text": [
      "[-282.   -280.85 -278.38 -273.08 -261.68 -237.2  -184.59  -71.55  171.33]\n"
     ]
    }
   ],
   "source": [
    "# Shift data to be positive\n",
    "shift = abs(df[\"New\"].min()) + 1  \n",
    "log_values = np.log(df[\"New\"] + shift)\n",
    "\n",
    "# Compute 9 logarithmic breaks\n",
    "log_breaks = np.exp(np.linspace(log_values.min(), log_values.max(), 9)) - shift\n",
    "\n",
    "# Round for better readability\n",
    "log_breaks = np.round(log_breaks, 2)\n",
    "\n",
    "print(log_breaks)"
   ]
  },
  {
   "cell_type": "code",
   "execution_count": 76,
   "id": "7d6eaac2-cdfc-4777-8f63-7eacbdf5cea0",
   "metadata": {},
   "outputs": [],
   "source": [
    "df1 = pd.DataFrame(log_breaks)"
   ]
  }
 ],
 "metadata": {
  "kernelspec": {
   "display_name": "Python 3 (ipykernel)",
   "language": "python",
   "name": "python3"
  },
  "language_info": {
   "codemirror_mode": {
    "name": "ipython",
    "version": 3
   },
   "file_extension": ".py",
   "mimetype": "text/x-python",
   "name": "python",
   "nbconvert_exporter": "python",
   "pygments_lexer": "ipython3",
   "version": "3.10.12"
  }
 },
 "nbformat": 4,
 "nbformat_minor": 5
}
